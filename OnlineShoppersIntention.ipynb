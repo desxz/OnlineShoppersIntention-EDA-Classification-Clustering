{
 "cells": [
  {
   "cell_type": "markdown",
   "metadata": {
    "id": "_J0LZ6SkX6C1"
   },
   "source": [
    "#### Libraries"
   ]
  },
  {
   "cell_type": "code",
   "execution_count": 45,
   "metadata": {
    "id": "ZuTPKOnpX6C3"
   },
   "outputs": [],
   "source": [
    "import numpy as np\n",
    "import pandas as pd\n",
    "\n",
    "import seaborn as sns\n",
    "import matplotlib.pyplot as plt \n",
    "plt.style.use('ggplot')\n",
    "\n",
    "from sklearn.linear_model import SGDClassifier\n",
    "from sklearn.neural_network import MLPClassifier\n",
    "\n",
    "from sklearn.decomposition import PCA\n",
    "from sklearn.cluster import KMeans\n",
    "\n",
    "from sklearn.neighbors import KNeighborsClassifier\n",
    "\n",
    "from sklearn.metrics import confusion_matrix\n",
    "from sklearn.model_selection import train_test_split\n",
    "from sklearn.model_selection import cross_val_score\n",
    "from sklearn.metrics import accuracy_score"
   ]
  },
  {
   "cell_type": "markdown",
   "metadata": {
    "id": "rtAtj6w3X6C5"
   },
   "source": [
    "![1](https://www.further.co.uk/wp-content/uploads/2019/04/onlineshoppers002.jpg)"
   ]
  },
  {
   "cell_type": "markdown",
   "metadata": {
    "id": "n9_uoV7FX6C6"
   },
   "source": [
    "##### Data Set Information:"
   ]
  },
  {
   "cell_type": "markdown",
   "metadata": {
    "id": "C1oIkE8rX6C6"
   },
   "source": [
    "The dataset consists of feature vectors belonging to 12,330 sessions.\n",
    "The dataset was formed so that each session would belong to a different user in a 1-year period to avoidany tendency to a specific campaign, special day, user profile, or period."
   ]
  },
  {
   "cell_type": "markdown",
   "metadata": {
    "id": "a1I2WOSHX6C7"
   },
   "source": [
    "##### Dataset Origin:"
   ]
  },
  {
   "cell_type": "markdown",
   "metadata": {
    "id": "RET5GOrdX6C7"
   },
   "source": [
    "https://archive.ics.uci.edu/ml/datasets/Online+Shoppers+Purchasing+Intention+Dataset"
   ]
  },
  {
   "cell_type": "markdown",
   "metadata": {
    "id": "XPsHJX9ZX6C7"
   },
   "source": [
    "##### Source:"
   ]
  },
  {
   "cell_type": "markdown",
   "metadata": {
    "id": "8kGvRLj9X6C8"
   },
   "source": [
    "C. Okan Sakar\n",
    "Department of Computer Engineering, Faculty of\n",
    "Engineering and Natural Sciences, Bahcesehir University,\n",
    "34349 Besiktas, Istanbul, Turkey\n",
    "\n",
    "Yomi Kastro\n",
    "Inveon Information Technologies Consultancy and Trade,\n",
    "34335 Istanbul, Turkey"
   ]
  },
  {
   "cell_type": "markdown",
   "metadata": {
    "id": "86cw2uqKX6C8"
   },
   "source": [
    "##### Relevant Papers"
   ]
  },
  {
   "cell_type": "markdown",
   "metadata": {
    "id": "ThKY7mjsX6C8"
   },
   "source": [
    "Sakar, C.O., Polat, S.O., Katircioglu, M. et al. Neural Comput & Applic (2018)."
   ]
  },
  {
   "cell_type": "markdown",
   "metadata": {
    "id": "MknpYVxNX6C8"
   },
   "source": [
    "<a id=\"1\"></a>\n",
    "#### Importing Data"
   ]
  },
  {
   "cell_type": "code",
   "execution_count": 46,
   "metadata": {
    "id": "liHusFF9X6C9"
   },
   "outputs": [],
   "source": [
    "df = pd.read_csv(\"online_shoppers_intention.csv\")"
   ]
  },
  {
   "cell_type": "markdown",
   "metadata": {
    "id": "gD5V7xiTX6C9"
   },
   "source": [
    "<a id=\"2\"></a>\n",
    "# First-Looking to Data And Analyzing"
   ]
  },
  {
   "cell_type": "markdown",
   "metadata": {
    "id": "tL8WpVMbX6C9"
   },
   "source": [
    "<a id=\"3\"></a>\n",
    "## First-Looking to DF"
   ]
  },
  {
   "cell_type": "code",
   "execution_count": 47,
   "metadata": {
    "id": "ZTQcKJR9X6C-",
    "outputId": "fab65581-d952-4f9d-fd38-d515f1aecd7d"
   },
   "outputs": [
    {
     "data": {
      "text/html": [
       "<div>\n",
       "<style scoped>\n",
       "    .dataframe tbody tr th:only-of-type {\n",
       "        vertical-align: middle;\n",
       "    }\n",
       "\n",
       "    .dataframe tbody tr th {\n",
       "        vertical-align: top;\n",
       "    }\n",
       "\n",
       "    .dataframe thead th {\n",
       "        text-align: right;\n",
       "    }\n",
       "</style>\n",
       "<table border=\"1\" class=\"dataframe\">\n",
       "  <thead>\n",
       "    <tr style=\"text-align: right;\">\n",
       "      <th></th>\n",
       "      <th>Administrative</th>\n",
       "      <th>Administrative_Duration</th>\n",
       "      <th>Informational</th>\n",
       "      <th>Informational_Duration</th>\n",
       "      <th>ProductRelated</th>\n",
       "      <th>ProductRelated_Duration</th>\n",
       "      <th>BounceRates</th>\n",
       "      <th>ExitRates</th>\n",
       "      <th>PageValues</th>\n",
       "      <th>SpecialDay</th>\n",
       "      <th>Month</th>\n",
       "      <th>OperatingSystems</th>\n",
       "      <th>Browser</th>\n",
       "      <th>Region</th>\n",
       "      <th>TrafficType</th>\n",
       "      <th>VisitorType</th>\n",
       "      <th>Weekend</th>\n",
       "      <th>Revenue</th>\n",
       "    </tr>\n",
       "  </thead>\n",
       "  <tbody>\n",
       "    <tr>\n",
       "      <th>0</th>\n",
       "      <td>0</td>\n",
       "      <td>0.0</td>\n",
       "      <td>0</td>\n",
       "      <td>0.0</td>\n",
       "      <td>1</td>\n",
       "      <td>0.000000</td>\n",
       "      <td>0.20</td>\n",
       "      <td>0.20</td>\n",
       "      <td>0.0</td>\n",
       "      <td>0.0</td>\n",
       "      <td>Feb</td>\n",
       "      <td>1</td>\n",
       "      <td>1</td>\n",
       "      <td>1</td>\n",
       "      <td>1</td>\n",
       "      <td>Returning_Visitor</td>\n",
       "      <td>False</td>\n",
       "      <td>False</td>\n",
       "    </tr>\n",
       "    <tr>\n",
       "      <th>1</th>\n",
       "      <td>0</td>\n",
       "      <td>0.0</td>\n",
       "      <td>0</td>\n",
       "      <td>0.0</td>\n",
       "      <td>2</td>\n",
       "      <td>64.000000</td>\n",
       "      <td>0.00</td>\n",
       "      <td>0.10</td>\n",
       "      <td>0.0</td>\n",
       "      <td>0.0</td>\n",
       "      <td>Feb</td>\n",
       "      <td>2</td>\n",
       "      <td>2</td>\n",
       "      <td>1</td>\n",
       "      <td>2</td>\n",
       "      <td>Returning_Visitor</td>\n",
       "      <td>False</td>\n",
       "      <td>False</td>\n",
       "    </tr>\n",
       "    <tr>\n",
       "      <th>2</th>\n",
       "      <td>0</td>\n",
       "      <td>0.0</td>\n",
       "      <td>0</td>\n",
       "      <td>0.0</td>\n",
       "      <td>1</td>\n",
       "      <td>0.000000</td>\n",
       "      <td>0.20</td>\n",
       "      <td>0.20</td>\n",
       "      <td>0.0</td>\n",
       "      <td>0.0</td>\n",
       "      <td>Feb</td>\n",
       "      <td>4</td>\n",
       "      <td>1</td>\n",
       "      <td>9</td>\n",
       "      <td>3</td>\n",
       "      <td>Returning_Visitor</td>\n",
       "      <td>False</td>\n",
       "      <td>False</td>\n",
       "    </tr>\n",
       "    <tr>\n",
       "      <th>3</th>\n",
       "      <td>0</td>\n",
       "      <td>0.0</td>\n",
       "      <td>0</td>\n",
       "      <td>0.0</td>\n",
       "      <td>2</td>\n",
       "      <td>2.666667</td>\n",
       "      <td>0.05</td>\n",
       "      <td>0.14</td>\n",
       "      <td>0.0</td>\n",
       "      <td>0.0</td>\n",
       "      <td>Feb</td>\n",
       "      <td>3</td>\n",
       "      <td>2</td>\n",
       "      <td>2</td>\n",
       "      <td>4</td>\n",
       "      <td>Returning_Visitor</td>\n",
       "      <td>False</td>\n",
       "      <td>False</td>\n",
       "    </tr>\n",
       "    <tr>\n",
       "      <th>4</th>\n",
       "      <td>0</td>\n",
       "      <td>0.0</td>\n",
       "      <td>0</td>\n",
       "      <td>0.0</td>\n",
       "      <td>10</td>\n",
       "      <td>627.500000</td>\n",
       "      <td>0.02</td>\n",
       "      <td>0.05</td>\n",
       "      <td>0.0</td>\n",
       "      <td>0.0</td>\n",
       "      <td>Feb</td>\n",
       "      <td>3</td>\n",
       "      <td>3</td>\n",
       "      <td>1</td>\n",
       "      <td>4</td>\n",
       "      <td>Returning_Visitor</td>\n",
       "      <td>True</td>\n",
       "      <td>False</td>\n",
       "    </tr>\n",
       "  </tbody>\n",
       "</table>\n",
       "</div>"
      ],
      "text/plain": [
       "   Administrative  Administrative_Duration  Informational  \\\n",
       "0               0                      0.0              0   \n",
       "1               0                      0.0              0   \n",
       "2               0                      0.0              0   \n",
       "3               0                      0.0              0   \n",
       "4               0                      0.0              0   \n",
       "\n",
       "   Informational_Duration  ProductRelated  ProductRelated_Duration  \\\n",
       "0                     0.0               1                 0.000000   \n",
       "1                     0.0               2                64.000000   \n",
       "2                     0.0               1                 0.000000   \n",
       "3                     0.0               2                 2.666667   \n",
       "4                     0.0              10               627.500000   \n",
       "\n",
       "   BounceRates  ExitRates  PageValues  SpecialDay Month  OperatingSystems  \\\n",
       "0         0.20       0.20         0.0         0.0   Feb                 1   \n",
       "1         0.00       0.10         0.0         0.0   Feb                 2   \n",
       "2         0.20       0.20         0.0         0.0   Feb                 4   \n",
       "3         0.05       0.14         0.0         0.0   Feb                 3   \n",
       "4         0.02       0.05         0.0         0.0   Feb                 3   \n",
       "\n",
       "   Browser  Region  TrafficType        VisitorType  Weekend  Revenue  \n",
       "0        1       1            1  Returning_Visitor    False    False  \n",
       "1        2       1            2  Returning_Visitor    False    False  \n",
       "2        1       9            3  Returning_Visitor    False    False  \n",
       "3        2       2            4  Returning_Visitor    False    False  \n",
       "4        3       1            4  Returning_Visitor     True    False  "
      ]
     },
     "execution_count": 47,
     "metadata": {},
     "output_type": "execute_result"
    }
   ],
   "source": [
    "df.head()"
   ]
  },
  {
   "cell_type": "markdown",
   "metadata": {
    "id": "-lwyvc83X6C-"
   },
   "source": [
    "<a id=\"4\"></a>\n",
    "## Information of the Dataset"
   ]
  },
  {
   "cell_type": "code",
   "execution_count": 48,
   "metadata": {
    "id": "GDy1vknNX6C_",
    "outputId": "64a4f060-1ac2-448d-c48b-3af2f689670e"
   },
   "outputs": [
    {
     "name": "stdout",
     "output_type": "stream",
     "text": [
      "<class 'pandas.core.frame.DataFrame'>\n",
      "RangeIndex: 12330 entries, 0 to 12329\n",
      "Data columns (total 18 columns):\n",
      " #   Column                   Non-Null Count  Dtype  \n",
      "---  ------                   --------------  -----  \n",
      " 0   Administrative           12330 non-null  int64  \n",
      " 1   Administrative_Duration  12330 non-null  float64\n",
      " 2   Informational            12330 non-null  int64  \n",
      " 3   Informational_Duration   12330 non-null  float64\n",
      " 4   ProductRelated           12330 non-null  int64  \n",
      " 5   ProductRelated_Duration  12330 non-null  float64\n",
      " 6   BounceRates              12330 non-null  float64\n",
      " 7   ExitRates                12330 non-null  float64\n",
      " 8   PageValues               12330 non-null  float64\n",
      " 9   SpecialDay               12330 non-null  float64\n",
      " 10  Month                    12330 non-null  object \n",
      " 11  OperatingSystems         12330 non-null  int64  \n",
      " 12  Browser                  12330 non-null  int64  \n",
      " 13  Region                   12330 non-null  int64  \n",
      " 14  TrafficType              12330 non-null  int64  \n",
      " 15  VisitorType              12330 non-null  object \n",
      " 16  Weekend                  12330 non-null  bool   \n",
      " 17  Revenue                  12330 non-null  bool   \n",
      "dtypes: bool(2), float64(7), int64(7), object(2)\n",
      "memory usage: 1.5+ MB\n"
     ]
    }
   ],
   "source": [
    "df.info()"
   ]
  },
  {
   "cell_type": "markdown",
   "metadata": {
    "id": "o2--KLQ1X6C_"
   },
   "source": [
    "<hr>\n",
    "         Administrative: This is the number of pages of this type (administrative) that the user visited.<br>\n",
    "Administrative_Duration: This is the amount of time spent in this category of pages.<br>\n",
    "          Informational: This is the number of pages of this type (informational) that the user visited.<br>\n",
    " Informational_Duration: This is the amount of time spent in this category of pages.<br>\n",
    "         ProductRelated: This is the number of pages of this type (product related) that the user visited.<br>\n",
    "ProductRelated_Duration: This is the amount of time spent in this category of pages.<br>\n",
    "            BounceRates: The percentage of visitors who enter the website through that page and exit without triggering any additional tasks.<br>\n",
    "              ExitRates: The percentage of pageviews on the website that end at that specific page.<br>\n",
    "             PageValues: The average value of the page averaged over the value of the target page and/or the completion of an eCommerce<br>\n",
    "             SpecialDay: This value represents the closeness of the browsing date to special days or holidays (eg Mother's Day or Valentine's day) in<br>\n",
    "                  Month: Contains the month the pageview occurred, in string form.<br>\n",
    "       OperatingSystems: An integer value representing the operating system that the user was on when viewing the page.<br>\n",
    "                Browser: An integer value representing the browser that the user was using to view the page.<br>\n",
    "                 Region: An integer value representing which region the user is located in.<br>\n",
    "            TrafficType: An integer value representing what type of traffic the user is categorized into.<br>\n",
    "            VisitorType: A string representing whether a visitor is New Visitor, Returning Visitor, or Other.<br>\n",
    "                Weekend: A boolean representing whether the session is on a weekend.<br>\n",
    "                Revenue: A boolean representing whether or not the user completed the purchase.<br>\n",
    "<hr>"
   ]
  },
  {
   "cell_type": "markdown",
   "metadata": {
    "id": "1scbwsMeX6C_"
   },
   "source": [
    "<br><br>Result Comments:<hr>\n",
    "\n",
    "There are 10 numerical and 8 categorical(with Revenue) features.\n",
    "\n",
    "Numericals: Administrative, Administrative_Duration, Informational, Informational_Duration, ProductRelated, ProductRelated_Duration, BounceRates, ExitRates, PageValues, SpecialDay.\n",
    "\n",
    "On the other hand, Categoricals: Month, OperationgSystems, Browser, Region, TrafficType, VisitorType, Weekend, Revenue.\n",
    "\n",
    "As a last, There is no any null value."
   ]
  },
  {
   "cell_type": "markdown",
   "metadata": {
    "id": "b5d_OCQVX6C_"
   },
   "source": [
    "<a id=\"5\"></a>\n",
    "## Information About Numerical Values"
   ]
  },
  {
   "cell_type": "code",
   "execution_count": 49,
   "metadata": {
    "id": "WXrL9Bl0X6DA",
    "outputId": "ecc6df16-8cff-469f-dc42-25e3eed9d6e2"
   },
   "outputs": [
    {
     "data": {
      "text/html": [
       "<div>\n",
       "<style scoped>\n",
       "    .dataframe tbody tr th:only-of-type {\n",
       "        vertical-align: middle;\n",
       "    }\n",
       "\n",
       "    .dataframe tbody tr th {\n",
       "        vertical-align: top;\n",
       "    }\n",
       "\n",
       "    .dataframe thead th {\n",
       "        text-align: right;\n",
       "    }\n",
       "</style>\n",
       "<table border=\"1\" class=\"dataframe\">\n",
       "  <thead>\n",
       "    <tr style=\"text-align: right;\">\n",
       "      <th></th>\n",
       "      <th>Administrative</th>\n",
       "      <th>Administrative_Duration</th>\n",
       "      <th>Informational</th>\n",
       "      <th>Informational_Duration</th>\n",
       "      <th>ProductRelated</th>\n",
       "      <th>ProductRelated_Duration</th>\n",
       "      <th>BounceRates</th>\n",
       "      <th>ExitRates</th>\n",
       "      <th>PageValues</th>\n",
       "      <th>SpecialDay</th>\n",
       "      <th>OperatingSystems</th>\n",
       "      <th>Browser</th>\n",
       "      <th>Region</th>\n",
       "      <th>TrafficType</th>\n",
       "    </tr>\n",
       "  </thead>\n",
       "  <tbody>\n",
       "    <tr>\n",
       "      <th>count</th>\n",
       "      <td>12330.000000</td>\n",
       "      <td>12330.000000</td>\n",
       "      <td>12330.000000</td>\n",
       "      <td>12330.000000</td>\n",
       "      <td>12330.000000</td>\n",
       "      <td>12330.000000</td>\n",
       "      <td>12330.000000</td>\n",
       "      <td>12330.000000</td>\n",
       "      <td>12330.000000</td>\n",
       "      <td>12330.000000</td>\n",
       "      <td>12330.000000</td>\n",
       "      <td>12330.000000</td>\n",
       "      <td>12330.000000</td>\n",
       "      <td>12330.000000</td>\n",
       "    </tr>\n",
       "    <tr>\n",
       "      <th>mean</th>\n",
       "      <td>2.315166</td>\n",
       "      <td>80.818611</td>\n",
       "      <td>0.503569</td>\n",
       "      <td>34.472398</td>\n",
       "      <td>31.731468</td>\n",
       "      <td>1194.746220</td>\n",
       "      <td>0.022191</td>\n",
       "      <td>0.043073</td>\n",
       "      <td>5.889258</td>\n",
       "      <td>0.061427</td>\n",
       "      <td>2.124006</td>\n",
       "      <td>2.357097</td>\n",
       "      <td>3.147364</td>\n",
       "      <td>4.069586</td>\n",
       "    </tr>\n",
       "    <tr>\n",
       "      <th>std</th>\n",
       "      <td>3.321784</td>\n",
       "      <td>176.779107</td>\n",
       "      <td>1.270156</td>\n",
       "      <td>140.749294</td>\n",
       "      <td>44.475503</td>\n",
       "      <td>1913.669288</td>\n",
       "      <td>0.048488</td>\n",
       "      <td>0.048597</td>\n",
       "      <td>18.568437</td>\n",
       "      <td>0.198917</td>\n",
       "      <td>0.911325</td>\n",
       "      <td>1.717277</td>\n",
       "      <td>2.401591</td>\n",
       "      <td>4.025169</td>\n",
       "    </tr>\n",
       "    <tr>\n",
       "      <th>min</th>\n",
       "      <td>0.000000</td>\n",
       "      <td>0.000000</td>\n",
       "      <td>0.000000</td>\n",
       "      <td>0.000000</td>\n",
       "      <td>0.000000</td>\n",
       "      <td>0.000000</td>\n",
       "      <td>0.000000</td>\n",
       "      <td>0.000000</td>\n",
       "      <td>0.000000</td>\n",
       "      <td>0.000000</td>\n",
       "      <td>1.000000</td>\n",
       "      <td>1.000000</td>\n",
       "      <td>1.000000</td>\n",
       "      <td>1.000000</td>\n",
       "    </tr>\n",
       "    <tr>\n",
       "      <th>25%</th>\n",
       "      <td>0.000000</td>\n",
       "      <td>0.000000</td>\n",
       "      <td>0.000000</td>\n",
       "      <td>0.000000</td>\n",
       "      <td>7.000000</td>\n",
       "      <td>184.137500</td>\n",
       "      <td>0.000000</td>\n",
       "      <td>0.014286</td>\n",
       "      <td>0.000000</td>\n",
       "      <td>0.000000</td>\n",
       "      <td>2.000000</td>\n",
       "      <td>2.000000</td>\n",
       "      <td>1.000000</td>\n",
       "      <td>2.000000</td>\n",
       "    </tr>\n",
       "    <tr>\n",
       "      <th>50%</th>\n",
       "      <td>1.000000</td>\n",
       "      <td>7.500000</td>\n",
       "      <td>0.000000</td>\n",
       "      <td>0.000000</td>\n",
       "      <td>18.000000</td>\n",
       "      <td>598.936905</td>\n",
       "      <td>0.003112</td>\n",
       "      <td>0.025156</td>\n",
       "      <td>0.000000</td>\n",
       "      <td>0.000000</td>\n",
       "      <td>2.000000</td>\n",
       "      <td>2.000000</td>\n",
       "      <td>3.000000</td>\n",
       "      <td>2.000000</td>\n",
       "    </tr>\n",
       "    <tr>\n",
       "      <th>75%</th>\n",
       "      <td>4.000000</td>\n",
       "      <td>93.256250</td>\n",
       "      <td>0.000000</td>\n",
       "      <td>0.000000</td>\n",
       "      <td>38.000000</td>\n",
       "      <td>1464.157213</td>\n",
       "      <td>0.016813</td>\n",
       "      <td>0.050000</td>\n",
       "      <td>0.000000</td>\n",
       "      <td>0.000000</td>\n",
       "      <td>3.000000</td>\n",
       "      <td>2.000000</td>\n",
       "      <td>4.000000</td>\n",
       "      <td>4.000000</td>\n",
       "    </tr>\n",
       "    <tr>\n",
       "      <th>max</th>\n",
       "      <td>27.000000</td>\n",
       "      <td>3398.750000</td>\n",
       "      <td>24.000000</td>\n",
       "      <td>2549.375000</td>\n",
       "      <td>705.000000</td>\n",
       "      <td>63973.522230</td>\n",
       "      <td>0.200000</td>\n",
       "      <td>0.200000</td>\n",
       "      <td>361.763742</td>\n",
       "      <td>1.000000</td>\n",
       "      <td>8.000000</td>\n",
       "      <td>13.000000</td>\n",
       "      <td>9.000000</td>\n",
       "      <td>20.000000</td>\n",
       "    </tr>\n",
       "  </tbody>\n",
       "</table>\n",
       "</div>"
      ],
      "text/plain": [
       "       Administrative  Administrative_Duration  Informational  \\\n",
       "count    12330.000000             12330.000000   12330.000000   \n",
       "mean         2.315166                80.818611       0.503569   \n",
       "std          3.321784               176.779107       1.270156   \n",
       "min          0.000000                 0.000000       0.000000   \n",
       "25%          0.000000                 0.000000       0.000000   \n",
       "50%          1.000000                 7.500000       0.000000   \n",
       "75%          4.000000                93.256250       0.000000   \n",
       "max         27.000000              3398.750000      24.000000   \n",
       "\n",
       "       Informational_Duration  ProductRelated  ProductRelated_Duration  \\\n",
       "count            12330.000000    12330.000000             12330.000000   \n",
       "mean                34.472398       31.731468              1194.746220   \n",
       "std                140.749294       44.475503              1913.669288   \n",
       "min                  0.000000        0.000000                 0.000000   \n",
       "25%                  0.000000        7.000000               184.137500   \n",
       "50%                  0.000000       18.000000               598.936905   \n",
       "75%                  0.000000       38.000000              1464.157213   \n",
       "max               2549.375000      705.000000             63973.522230   \n",
       "\n",
       "        BounceRates     ExitRates    PageValues    SpecialDay  \\\n",
       "count  12330.000000  12330.000000  12330.000000  12330.000000   \n",
       "mean       0.022191      0.043073      5.889258      0.061427   \n",
       "std        0.048488      0.048597     18.568437      0.198917   \n",
       "min        0.000000      0.000000      0.000000      0.000000   \n",
       "25%        0.000000      0.014286      0.000000      0.000000   \n",
       "50%        0.003112      0.025156      0.000000      0.000000   \n",
       "75%        0.016813      0.050000      0.000000      0.000000   \n",
       "max        0.200000      0.200000    361.763742      1.000000   \n",
       "\n",
       "       OperatingSystems       Browser        Region   TrafficType  \n",
       "count      12330.000000  12330.000000  12330.000000  12330.000000  \n",
       "mean           2.124006      2.357097      3.147364      4.069586  \n",
       "std            0.911325      1.717277      2.401591      4.025169  \n",
       "min            1.000000      1.000000      1.000000      1.000000  \n",
       "25%            2.000000      2.000000      1.000000      2.000000  \n",
       "50%            2.000000      2.000000      3.000000      2.000000  \n",
       "75%            3.000000      2.000000      4.000000      4.000000  \n",
       "max            8.000000     13.000000      9.000000     20.000000  "
      ]
     },
     "execution_count": 49,
     "metadata": {},
     "output_type": "execute_result"
    }
   ],
   "source": [
    "df.describe()"
   ]
  },
  {
   "cell_type": "markdown",
   "metadata": {
    "id": "IYyIRfPMX6DA"
   },
   "source": [
    "Comments:\n",
    "\n",
    "Administrative: There is zero value as Min. It shouldn't.\n",
    "\n",
    "For All Duration Parts: I will look the outliers values. Is there or not? The values of some of them is interesting thats why I’m saying.\n",
    "\n",
    "Month: When we look at the months, the number of observations decreases after December.I will use just May, Nov, Mar, Dec months which are Top-4.\n"
   ]
  },
  {
   "cell_type": "markdown",
   "metadata": {
    "id": "X81pRBmiX6DA"
   },
   "source": [
    "<a id=\"6\"></a>\n",
    "# Pre-Processing and Explotary Data Analysis(EDA)"
   ]
  },
  {
   "cell_type": "markdown",
   "metadata": {
    "id": "ApgZTM49X6DA"
   },
   "source": [
    "<a id=\"7\"></a>\n",
    "## Numerical to Categorical"
   ]
  },
  {
   "cell_type": "code",
   "execution_count": 50,
   "metadata": {
    "id": "b5-GwLoTX6DB"
   },
   "outputs": [],
   "source": [
    "df[\"Month\"] = df[\"Month\"].astype(\"category\")\n",
    "df[\"OperatingSystems\"] = df[\"OperatingSystems\"].astype(\"category\")\n",
    "df[\"Browser\"] = df[\"Browser\"].astype(\"category\")\n",
    "df[\"Region\"] = df[\"Region\"].astype(\"category\")\n",
    "df[\"TrafficType\"] = df[\"TrafficType\"].astype(\"category\")\n",
    "df[\"VisitorType\"] = df[\"VisitorType\"].astype(\"category\")\n",
    "df[\"Weekend\"] = df[\"Weekend\"].astype(\"category\")\n",
    "df[\"Revenue\"] = df[\"Revenue\"].astype(\"category\")"
   ]
  },
  {
   "cell_type": "markdown",
   "metadata": {
    "id": "SJ4z-8gAX6DB"
   },
   "source": [
    "<a id=\"8\"></a>\n",
    "## Distribution of Categorical Features with Histogram"
   ]
  },
  {
   "cell_type": "code",
   "execution_count": 51,
   "metadata": {
    "id": "gMqALEXWX6DB",
    "outputId": "7356e3c7-854e-4da8-b03c-adaebc4673da"
   },
   "outputs": [
    {
     "data": {
      "image/png": "[encoded data removed]",
      "text/plain": [
       "<Figure size 1080x720 with 6 Axes>"
      ]
     },
     "metadata": {},
     "output_type": "display_data"
    }
   ],
   "source": [
    "fig,((ax1, ax2, ax3), (ax4, ax5, ax6)) = plt.subplots(2, 3, figsize=(15,10))\n",
    "\n",
    "ax1.hist(df[\"Month\"])\n",
    "ax1.set_title(\"Distribution of Month\")\n",
    "\n",
    "ax2.hist(df[\"Region\"])\n",
    "ax2.set_title(\"Distribution of Region\")\n",
    "\n",
    "ax3.hist(df[\"OperatingSystems\"])\n",
    "ax3.set_title(\"Distribution of Operating Systems\")\n",
    "\n",
    "ax4.hist(df[\"TrafficType\"])\n",
    "ax4.set_title(\"Distribution of TrafficType\")\n",
    "\n",
    "ax5.hist(df[\"Browser\"])\n",
    "ax5.set_title(\"Distribution of Browser\")\n",
    "\n",
    "ax6.hist(df[\"VisitorType\"])\n",
    "ax6.set_title(\"Distribution of VisitorType\")\n",
    "\n",
    "plt.show()"
   ]
  },
  {
   "cell_type": "markdown",
   "metadata": {
    "id": "FUfAGZDsX6DC"
   },
   "source": [
    "I remove the features which are Operating Systems, Browser, Traffic Type and Region. Here are my reasons.\n",
    "\n",
    "Operating Systems, Browser: I definitely think, the hardware or software of my system which do shopping on, Does not affect our shopping behavior.\n",
    "\n",
    "Traffic Type and Region: They can affect our shopping behavior but There is not more information about them. Which number signifies what? on both of them."
   ]
  },
  {
   "cell_type": "markdown",
   "metadata": {
    "id": "Zww61RwfX6DD"
   },
   "source": [
    "<a id=\"9\"></a>\n",
    "## Month Setting"
   ]
  },
  {
   "cell_type": "code",
   "execution_count": 52,
   "metadata": {
    "id": "mk7-iJXlX6DD"
   },
   "outputs": [],
   "source": [
    "df = df[(df[\"Month\"] == \"Mar\") | (df[\"Month\"] == \"May\") | (df[\"Month\"] == \"Nov\") | (df[\"Month\"] == \"Dec\")]"
   ]
  },
  {
   "cell_type": "markdown",
   "metadata": {
    "id": "dYpJPKjnX6DE"
   },
   "source": [
    "<a id=\"10\"></a>\n",
    "## Administrative Settings"
   ]
  },
  {
   "cell_type": "code",
   "execution_count": 53,
   "metadata": {
    "id": "PpwdkYhQX6DE"
   },
   "outputs": [],
   "source": [
    "df = df[(df[\"Administrative_Duration\"] > 0) | (df[\"Administrative\"] > 0)]"
   ]
  },
  {
   "cell_type": "markdown",
   "metadata": {
    "id": "rTxxFJQkX6DE"
   },
   "source": [
    "<a id=\"11\"></a>\n",
    "## Dropping Some Columns"
   ]
  },
  {
   "cell_type": "code",
   "execution_count": 54,
   "metadata": {
    "id": "mDuPS0X_X6DE"
   },
   "outputs": [],
   "source": [
    "df = df.drop([\"OperatingSystems\",\"Browser\",\"TrafficType\",\"Region\"], axis=1)"
   ]
  },
  {
   "cell_type": "code",
   "execution_count": 55,
   "metadata": {
    "id": "fN-_RHX9X6DF",
    "outputId": "0fa53f87-f352-4972-c81f-2d74d77a677f"
   },
   "outputs": [
    {
     "data": {
      "text/html": [
       "<div>\n",
       "<style scoped>\n",
       "    .dataframe tbody tr th:only-of-type {\n",
       "        vertical-align: middle;\n",
       "    }\n",
       "\n",
       "    .dataframe tbody tr th {\n",
       "        vertical-align: top;\n",
       "    }\n",
       "\n",
       "    .dataframe thead th {\n",
       "        text-align: right;\n",
       "    }\n",
       "</style>\n",
       "<table border=\"1\" class=\"dataframe\">\n",
       "  <thead>\n",
       "    <tr style=\"text-align: right;\">\n",
       "      <th></th>\n",
       "      <th>Administrative</th>\n",
       "      <th>Administrative_Duration</th>\n",
       "      <th>Informational</th>\n",
       "      <th>Informational_Duration</th>\n",
       "      <th>ProductRelated</th>\n",
       "      <th>ProductRelated_Duration</th>\n",
       "      <th>BounceRates</th>\n",
       "      <th>ExitRates</th>\n",
       "      <th>PageValues</th>\n",
       "      <th>SpecialDay</th>\n",
       "      <th>Month</th>\n",
       "      <th>VisitorType</th>\n",
       "      <th>Weekend</th>\n",
       "      <th>Revenue</th>\n",
       "    </tr>\n",
       "  </thead>\n",
       "  <tbody>\n",
       "    <tr>\n",
       "      <th>186</th>\n",
       "      <td>2</td>\n",
       "      <td>9.000000</td>\n",
       "      <td>0</td>\n",
       "      <td>0.0</td>\n",
       "      <td>50</td>\n",
       "      <td>836.800000</td>\n",
       "      <td>0.000000</td>\n",
       "      <td>0.006340</td>\n",
       "      <td>0.000000</td>\n",
       "      <td>0.0</td>\n",
       "      <td>Mar</td>\n",
       "      <td>Returning_Visitor</td>\n",
       "      <td>False</td>\n",
       "      <td>False</td>\n",
       "    </tr>\n",
       "    <tr>\n",
       "      <th>187</th>\n",
       "      <td>10</td>\n",
       "      <td>293.778205</td>\n",
       "      <td>2</td>\n",
       "      <td>153.0</td>\n",
       "      <td>96</td>\n",
       "      <td>3283.166739</td>\n",
       "      <td>0.001961</td>\n",
       "      <td>0.013509</td>\n",
       "      <td>0.000000</td>\n",
       "      <td>0.0</td>\n",
       "      <td>Mar</td>\n",
       "      <td>Returning_Visitor</td>\n",
       "      <td>True</td>\n",
       "      <td>False</td>\n",
       "    </tr>\n",
       "    <tr>\n",
       "      <th>188</th>\n",
       "      <td>9</td>\n",
       "      <td>111.500000</td>\n",
       "      <td>1</td>\n",
       "      <td>48.5</td>\n",
       "      <td>49</td>\n",
       "      <td>1868.819697</td>\n",
       "      <td>0.000000</td>\n",
       "      <td>0.020709</td>\n",
       "      <td>1.706015</td>\n",
       "      <td>0.0</td>\n",
       "      <td>Mar</td>\n",
       "      <td>Returning_Visitor</td>\n",
       "      <td>False</td>\n",
       "      <td>True</td>\n",
       "    </tr>\n",
       "    <tr>\n",
       "      <th>189</th>\n",
       "      <td>3</td>\n",
       "      <td>47.000000</td>\n",
       "      <td>1</td>\n",
       "      <td>51.0</td>\n",
       "      <td>68</td>\n",
       "      <td>3008.124108</td>\n",
       "      <td>0.007143</td>\n",
       "      <td>0.016728</td>\n",
       "      <td>46.530175</td>\n",
       "      <td>0.0</td>\n",
       "      <td>Mar</td>\n",
       "      <td>Returning_Visitor</td>\n",
       "      <td>False</td>\n",
       "      <td>False</td>\n",
       "    </tr>\n",
       "    <tr>\n",
       "      <th>191</th>\n",
       "      <td>3</td>\n",
       "      <td>1226.000000</td>\n",
       "      <td>5</td>\n",
       "      <td>3.0</td>\n",
       "      <td>24</td>\n",
       "      <td>3230.250000</td>\n",
       "      <td>0.036190</td>\n",
       "      <td>0.096000</td>\n",
       "      <td>0.000000</td>\n",
       "      <td>0.0</td>\n",
       "      <td>Mar</td>\n",
       "      <td>Returning_Visitor</td>\n",
       "      <td>False</td>\n",
       "      <td>False</td>\n",
       "    </tr>\n",
       "  </tbody>\n",
       "</table>\n",
       "</div>"
      ],
      "text/plain": [
       "     Administrative  Administrative_Duration  Informational  \\\n",
       "186               2                 9.000000              0   \n",
       "187              10               293.778205              2   \n",
       "188               9               111.500000              1   \n",
       "189               3                47.000000              1   \n",
       "191               3              1226.000000              5   \n",
       "\n",
       "     Informational_Duration  ProductRelated  ProductRelated_Duration  \\\n",
       "186                     0.0              50               836.800000   \n",
       "187                   153.0              96              3283.166739   \n",
       "188                    48.5              49              1868.819697   \n",
       "189                    51.0              68              3008.124108   \n",
       "191                     3.0              24              3230.250000   \n",
       "\n",
       "     BounceRates  ExitRates  PageValues  SpecialDay Month        VisitorType  \\\n",
       "186     0.000000   0.006340    0.000000         0.0   Mar  Returning_Visitor   \n",
       "187     0.001961   0.013509    0.000000         0.0   Mar  Returning_Visitor   \n",
       "188     0.000000   0.020709    1.706015         0.0   Mar  Returning_Visitor   \n",
       "189     0.007143   0.016728   46.530175         0.0   Mar  Returning_Visitor   \n",
       "191     0.036190   0.096000    0.000000         0.0   Mar  Returning_Visitor   \n",
       "\n",
       "    Weekend Revenue  \n",
       "186   False   False  \n",
       "187    True   False  \n",
       "188   False    True  \n",
       "189   False   False  \n",
       "191   False   False  "
      ]
     },
     "execution_count": 55,
     "metadata": {},
     "output_type": "execute_result"
    }
   ],
   "source": [
    "df.head()"
   ]
  },
  {
   "cell_type": "markdown",
   "metadata": {
    "id": "-7_HDr3lX6DF"
   },
   "source": [
    "<a id=\"12\"></a>\n",
    "## Outliers and Removing Them"
   ]
  },
  {
   "cell_type": "code",
   "execution_count": 56,
   "metadata": {
    "id": "PkgrQos_X6DF",
    "outputId": "4e79a16e-8fd1-4a26-ecbd-760ec3c5a3a6"
   },
   "outputs": [
    {
     "data": {
      "image/png": "[encoded data removed]",
      "text/plain": [
       "<Figure size 1080x720 with 3 Axes>"
      ]
     },
     "metadata": {},
     "output_type": "display_data"
    }
   ],
   "source": [
    "fig, (ax1, ax2, ax3) = plt.subplots(1, 3, figsize=(15,10))\n",
    "\n",
    "ax1.boxplot(df[\"Administrative_Duration\"])\n",
    "ax1.set_title(\"Administrative_Duration\")\n",
    "\n",
    "ax2.boxplot(df[\"Informational_Duration\"])\n",
    "ax2.set_title(\"Informational_Duration\")\n",
    "\n",
    "ax3.boxplot(df[\"ProductRelated_Duration\"])\n",
    "ax3.set_title(\"ProductRelated_Duration\")\n",
    "\n",
    "\n",
    "plt.show()"
   ]
  },
  {
   "cell_type": "code",
   "execution_count": 57,
   "metadata": {
    "id": "99TcoO3qX6DG"
   },
   "outputs": [],
   "source": [
    "sorted_administrative = np.sort(df.Administrative_Duration)\n",
    "q1, q3 = np.percentile(sorted_administrative, [25,75])\n",
    "iqr = q3 - q1\n",
    "upper_range_ad = q3 + (1.5*iqr)\n",
    "\n",
    "\n",
    "\n",
    "sorted_informal = np.sort(df.Informational_Duration)\n",
    "q1, q3 = np.percentile(sorted_informal, [25,75])\n",
    "iqr = q3 - q1\n",
    "upper_range_info = q3 + (1.5*iqr)\n",
    "\n",
    "\n",
    "\n",
    "sorted_productrelated = np.sort(df.ProductRelated_Duration)\n",
    "q1, q3 = np.percentile(sorted_informal, [25,75])\n",
    "iqr = q3 - q1\n",
    "upper_range_pro = q3 + (1.5*iqr)\n",
    "\n",
    "df = df[(df[\"Administrative_Duration\"] < upper_range_ad) | (df[\"Informational_Duration\"] < upper_range_info) | (df[\"ProductRelated_Duration\"] < upper_range_pro)]\n",
    "\n"
   ]
  },
  {
   "cell_type": "markdown",
   "metadata": {
    "id": "9Mz_wQTLX6DG"
   },
   "source": [
    "<a id=\"13\"></a>\n",
    "## Correlation on Categoricals"
   ]
  },
  {
   "cell_type": "code",
   "execution_count": 58,
   "metadata": {
    "id": "fKKcBBtLX6DG",
    "outputId": "e2cf42a1-9c03-4723-c797-e611a1ea0a4d"
   },
   "outputs": [
    {
     "data": {
      "image/png": "[encoded data removed]",
      "text/plain": [
       "<Figure size 720x720 with 2 Axes>"
      ]
     },
     "metadata": {},
     "output_type": "display_data"
    }
   ],
   "source": [
    "plt.figure(figsize=(10,10))\n",
    "sns.heatmap(df.corr(), annot=True, linewidths= .5, cmap=\"YlGnBu\")\n",
    "plt.show()"
   ]
  },
  {
   "cell_type": "markdown",
   "metadata": {
    "id": "9N6qJ_4ZX6DH"
   },
   "source": [
    "<a id=\"13\"></a>\n",
    "## Changing Type Of Some Columns to Prepare the Models"
   ]
  },
  {
   "cell_type": "code",
   "execution_count": 59,
   "metadata": {
    "id": "Z3IYJ-vxX6DH"
   },
   "outputs": [],
   "source": [
    "df.Month = df.Month.replace([\"Mar\",\"May\",\"Nov\",\"Dec\"], [\"3\", \"5\", \"9\",\"12\"])\n",
    "df.Month = df.Month.astype(\"int\")\n",
    "df.VisitorType = df.VisitorType.replace([\"Returning_Visitor\", \"New_Visitor\",\"Other\"], [\"0\",\"1\",\"2\"])\n",
    "df.VisitorType = df.VisitorType.astype(\"int\")\n",
    "df.Weekend = df.Weekend.astype(\"int\")\n",
    "df.BounceRates = df.BounceRates.astype(\"int\")\n",
    "df.ExitRates = df.ExitRates.astype(\"int\")\n",
    "df.PageValues= df.PageValues.astype(\"int\")\n",
    "df.SpecialDay = df.SpecialDay.astype(\"int\")\n",
    "df.Revenue = df.Revenue.astype(\"int\")"
   ]
  },
  {
   "cell_type": "markdown",
   "metadata": {
    "id": "hJIqgXOVZF05"
   },
   "source": [
    "<a id=\"14\"></a>\r\n",
    "# Classification\r\n"
   ]
  },
  {
   "cell_type": "markdown",
   "metadata": {
    "id": "wUPGKZjQZunB"
   },
   "source": [
    "### Creating The Dataset Like X and Y"
   ]
  },
  {
   "cell_type": "code",
   "execution_count": 60,
   "metadata": {
    "id": "xmIT8sozYC5X"
   },
   "outputs": [],
   "source": [
    "X = df.drop([\"Revenue\"], axis=1)\r\n",
    "y = df[\"Revenue\"]"
   ]
  },
  {
   "cell_type": "markdown",
   "metadata": {
    "id": "_RrlznlSZ2AP"
   },
   "source": [
    "### Splitting Test-Train"
   ]
  },
  {
   "cell_type": "code",
   "execution_count": 61,
   "metadata": {
    "id": "9iRFyBsLYCyw"
   },
   "outputs": [],
   "source": [
    "X_train, X_test, y_train, y_test = train_test_split(X, y, test_size=0.3, random_state=42)"
   ]
  },
  {
   "cell_type": "markdown",
   "metadata": {
    "id": "O3CpL02DaD_I"
   },
   "source": [
    "<a id=\"15\"></a>\r\n",
    "## Classification with SGD"
   ]
  },
  {
   "cell_type": "markdown",
   "metadata": {
    "id": "qyy4iSDJamVX"
   },
   "source": [
    "<a id=\"21\"></a>\r\n",
    "### Creating SGD Model"
   ]
  },
  {
   "cell_type": "code",
   "execution_count": 62,
   "metadata": {
    "id": "S9w2jVU3YCwX"
   },
   "outputs": [],
   "source": [
    "sgd = SGDClassifier()"
   ]
  },
  {
   "cell_type": "markdown",
   "metadata": {
    "id": "Lo0TvUKeaqlB"
   },
   "source": [
    "<a id=\"22\"></a>\r\n",
    "### Fitting the Model"
   ]
  },
  {
   "cell_type": "code",
   "execution_count": 63,
   "metadata": {
    "id": "8Zmk2DBHYCua"
   },
   "outputs": [
    {
     "data": {
      "text/plain": [
       "SGDClassifier()"
      ]
     },
     "execution_count": 63,
     "metadata": {},
     "output_type": "execute_result"
    }
   ],
   "source": [
    "sgd.fit(X_train,y_train)"
   ]
  },
  {
   "cell_type": "markdown",
   "metadata": {
    "id": "VegSHxFNavLL"
   },
   "source": [
    "<a id=\"23\"></a>\r\n",
    "### Predict For Test Values"
   ]
  },
  {
   "cell_type": "code",
   "execution_count": 64,
   "metadata": {
    "id": "gRxgNr-5YCrs"
   },
   "outputs": [],
   "source": [
    "y_predicted = sgd.predict(X_test)"
   ]
  },
  {
   "cell_type": "markdown",
   "metadata": {
    "id": "WqhcWCWYbEQ-"
   },
   "source": [
    "<a id=\"24\"></a>\r\n",
    "### Comparison the Real and Predicted Value(Accuracy)"
   ]
  },
  {
   "cell_type": "code",
   "execution_count": 80,
   "metadata": {
    "id": "x_KBOmDvYCpe"
   },
   "outputs": [
    {
     "data": {
      "text/plain": [
       "0.8147396889790399"
      ]
     },
     "execution_count": 80,
     "metadata": {},
     "output_type": "execute_result"
    }
   ],
   "source": [
    "accuracy_score(y_test, y_predicted)"
   ]
  },
  {
   "cell_type": "markdown",
   "metadata": {
    "id": "mxAuos9sbKR3"
   },
   "source": [
    "<a id=\"25\"></a>\r\n",
    "### Cross Validatiton"
   ]
  },
  {
   "cell_type": "code",
   "execution_count": 66,
   "metadata": {
    "id": "1yTY5sRUYCnY"
   },
   "outputs": [
    {
     "data": {
      "text/plain": [
       "0.7693969479683765"
      ]
     },
     "execution_count": 66,
     "metadata": {},
     "output_type": "execute_result"
    }
   ],
   "source": [
    "cross_valid_scores = cross_val_score(sgd, X_test, y_test, cv=10)\r\n",
    "cross_valid_scores.mean()"
   ]
  },
  {
   "cell_type": "markdown",
   "metadata": {
    "id": "7c1jHsnSe3BD"
   },
   "source": [
    "<a id=\"16\"></a>\r\n",
    "## Classification with MLP"
   ]
  },
  {
   "cell_type": "markdown",
   "metadata": {
    "id": "l1MqL8FWe4Po"
   },
   "source": [
    "<a id=\"26\"></a>\r\n",
    "### Creating MLP Model"
   ]
  },
  {
   "cell_type": "code",
   "execution_count": 67,
   "metadata": {
    "id": "WvfUb1nCe8oV"
   },
   "outputs": [],
   "source": [
    "clf = MLPClassifier(random_state=1, max_iter=100)"
   ]
  },
  {
   "cell_type": "markdown",
   "metadata": {
    "id": "F1aErrRse__c"
   },
   "source": [
    "<a id=\"27\"></a>\r\n",
    "### Fitting the Model"
   ]
  },
  {
   "cell_type": "code",
   "execution_count": 68,
   "metadata": {
    "id": "Hhpb-6JIfC78"
   },
   "outputs": [
    {
     "data": {
      "text/plain": [
       "MLPClassifier(max_iter=100, random_state=1)"
      ]
     },
     "execution_count": 68,
     "metadata": {},
     "output_type": "execute_result"
    }
   ],
   "source": [
    "clf.fit(X, y)"
   ]
  },
  {
   "cell_type": "markdown",
   "metadata": {
    "id": "j1qBH2eHfJ9U"
   },
   "source": [
    "<a id=\"28\"></a>\r\n",
    "### Predict For Test Values"
   ]
  },
  {
   "cell_type": "code",
   "execution_count": 69,
   "metadata": {
    "id": "g9VM9p6HfK1g"
   },
   "outputs": [],
   "source": [
    "y_predicted = clf.predict(X_test)"
   ]
  },
  {
   "cell_type": "markdown",
   "metadata": {
    "id": "JzgB309zfN2H"
   },
   "source": [
    "<a id=\"29\"></a>\r\n",
    "### Comparison the Real and Predicted Value(Accuracy)"
   ]
  },
  {
   "cell_type": "code",
   "execution_count": 70,
   "metadata": {
    "id": "iFkQFFfhfQJC"
   },
   "outputs": [
    {
     "data": {
      "text/plain": [
       "0.8147396889790399"
      ]
     },
     "execution_count": 70,
     "metadata": {},
     "output_type": "execute_result"
    }
   ],
   "source": [
    "accuracy_score(y_test, y_predicted)"
   ]
  },
  {
   "cell_type": "markdown",
   "metadata": {
    "id": "ksmq7FWBfTdk"
   },
   "source": [
    "<a id=\"30\"></a>\r\n",
    "### Cross Validatition"
   ]
  },
  {
   "cell_type": "code",
   "execution_count": 71,
   "metadata": {
    "id": "1e5ykqqEfWw4"
   },
   "outputs": [
    {
     "data": {
      "text/plain": [
       "0.8032588711160139"
      ]
     },
     "execution_count": 71,
     "metadata": {},
     "output_type": "execute_result"
    }
   ],
   "source": [
    "cross_valid_scores_mlp = cross_val_score(clf, X_test, y_test, cv=10)\r\n",
    "cross_valid_scores_mlp.mean()"
   ]
  },
  {
   "cell_type": "markdown",
   "metadata": {
    "id": "qN7SC0iDfZiS"
   },
   "source": [
    "<a id=\"31\"></a>\n",
    "## Classification with MLP(Different Hidden Layer Sizes))"
   ]
  },
  {
   "cell_type": "code",
   "execution_count": 72,
   "metadata": {
    "id": "dZgJSmOZfe9F"
   },
   "outputs": [
    {
     "data": {
      "image/png": "[encoded data removed]",
      "text/plain": [
       "<Figure size 432x288 with 1 Axes>"
      ]
     },
     "metadata": {},
     "output_type": "display_data"
    }
   ],
   "source": [
    "# To save test accuracy\r\n",
    "score_list_test=list()\r\n",
    "\r\n",
    "def MultiLayerPerceptron(number):\r\n",
    "    global score_list_test\r\n",
    "    global score_list_train\r\n",
    "\r\n",
    "    \r\n",
    "    # To split Train-Test\r\n",
    "    X_train, X_test, y_train, y_test = train_test_split(X, y, test_size=0.30, random_state=42)\r\n",
    "    \r\n",
    "    # Crete hidden layer size tuple\r\n",
    "    liste = list()\r\n",
    "    for i in range(number, 0, -1):\r\n",
    "        liste.append(2**i)\r\n",
    "        \r\n",
    "    # To create MLP model        \r\n",
    "    clf = MLPClassifier(solver='lbfgs', alpha=1e-5, hidden_layer_sizes=tuple(liste), random_state=1)\r\n",
    "            \r\n",
    "    # To apply\r\n",
    "    clf.fit(X_train, y_train)\r\n",
    "    \r\n",
    "\r\n",
    "    # To predict test\r\n",
    "    y_predicted = clf.predict(X_test)\r\n",
    "    \r\n",
    "    # Accuracy score of test\r\n",
    "    score_test = accuracy_score(y_test, y_predicted)\r\n",
    "    \r\n",
    "    # To save the scores\r\n",
    "    score_list_test.append(score_test)\r\n",
    "    \r\n",
    "    \r\n",
    "# To call func.    \r\n",
    "for i in range(1, 8):\r\n",
    "    MultiLayerPerceptron(i)\r\n",
    "    \r\n",
    "# To plot\r\n",
    "iteration = list(range(1,8))\r\n",
    "plt.plot(iteration, score_list_test, color=\"red\", label=\"Test\")\r\n",
    "plt.legend()\r\n",
    "plt.title(\"Test scores as a function of hidden layer size\")\r\n",
    "plt.xlabel(\"Hidden Layer Size\")\r\n",
    "plt.ylabel(\"Accuracy Score\")\r\n",
    "plt.show()\r\n"
   ]
  },
  {
   "cell_type": "markdown",
   "metadata": {},
   "source": [
    "<a id=\"17\"></a>\n",
    "# Clustering"
   ]
  },
  {
   "cell_type": "markdown",
   "metadata": {},
   "source": [
    "<a id=\"18\"></a>\n",
    "## PCA"
   ]
  },
  {
   "cell_type": "markdown",
   "metadata": {},
   "source": [
    "<a id=\"32\"></a>\n",
    "### Creating PCA Model"
   ]
  },
  {
   "cell_type": "code",
   "execution_count": 73,
   "metadata": {},
   "outputs": [],
   "source": [
    "pca = PCA(n_components=13)"
   ]
  },
  {
   "cell_type": "markdown",
   "metadata": {},
   "source": [
    "<a id=\"33\"></a>\n",
    "### Fitting"
   ]
  },
  {
   "cell_type": "code",
   "execution_count": 74,
   "metadata": {},
   "outputs": [
    {
     "data": {
      "text/plain": [
       "PCA(n_components=13)"
      ]
     },
     "execution_count": 74,
     "metadata": {},
     "output_type": "execute_result"
    }
   ],
   "source": [
    "pca.fit(X)"
   ]
  },
  {
   "cell_type": "markdown",
   "metadata": {},
   "source": [
    "<a id=\"34\"></a>\n",
    "### Collect Explained Variance Ratio"
   ]
  },
  {
   "cell_type": "code",
   "execution_count": 75,
   "metadata": {},
   "outputs": [],
   "source": [
    "explained_variance_ratio = pca.explained_variance_ratio_"
   ]
  },
  {
   "cell_type": "markdown",
   "metadata": {},
   "source": [
    "<a id=\"35\"></a>\n",
    "### Plotting Explained Variance Ratio to choose PCA Component Number"
   ]
  },
  {
   "cell_type": "code",
   "execution_count": 76,
   "metadata": {},
   "outputs": [
    {
     "data": {
      "image/png": "[encoded data removed]",
      "text/plain": [
       "<Figure size 432x288 with 1 Axes>"
      ]
     },
     "metadata": {},
     "output_type": "display_data"
    }
   ],
   "source": [
    "plt.plot(explained_variance_ratio)\n",
    "plt.xlabel(\"PCA Components\")\n",
    "plt.ylabel(\"Explained Variance Ratio\")\n",
    "plt.show()"
   ]
  },
  {
   "cell_type": "code",
   "execution_count": 77,
   "metadata": {},
   "outputs": [
    {
     "name": "stdout",
     "output_type": "stream",
     "text": [
      "PC1: 0.9852078563481969\n",
      "PC2: 0.008322339281403437\n"
     ]
    }
   ],
   "source": [
    "print(\"PC1: {}\\nPC2: {}\".format(explained_variance_ratio[0], explained_variance_ratio[1]))"
   ]
  },
  {
   "cell_type": "markdown",
   "metadata": {},
   "source": [
    "<a id=\"36\"></a>\n",
    "### Collect PC1 and PC2 X and Y Values"
   ]
  },
  {
   "cell_type": "code",
   "execution_count": 78,
   "metadata": {},
   "outputs": [],
   "source": [
    "for_x = list()\n",
    "for_y = list()\n",
    "\n",
    "for i in range(len(pca.transform(X))):\n",
    "    for_x.append(pca.transform(X)[i][0])\n",
    "    for_y.append(pca.transform(X)[i][1])\n",
    "    \n",
    "pca_df = pd.DataFrame(for_x, columns=[\"X\"])\n",
    "pca_df[\"Y\"] = for_y\n",
    "    \n"
   ]
  },
  {
   "cell_type": "markdown",
   "metadata": {},
   "source": [
    "<a id=\"37\"></a>\n",
    "### Plotting After Dimension Reduction"
   ]
  },
  {
   "cell_type": "code",
   "execution_count": 79,
   "metadata": {},
   "outputs": [
    {
     "data": {
      "image/png": "[encoded data removed]",
      "text/plain": [
       "<Figure size 432x288 with 1 Axes>"
      ]
     },
     "metadata": {},
     "output_type": "display_data"
    }
   ],
   "source": [
    "plt.scatter(pca_df[\"X\"], pca_df[\"Y\"])\n",
    "plt.show()"
   ]
  },
  {
   "cell_type": "code",
   "execution_count": null,
   "metadata": {},
   "outputs": [],
   "source": []
  }
 ],
 "metadata": {
  "colab": {
   "collapsed_sections": [],
   "name": "OnlineShoppersIntention.ipynb",
   "provenance": []
  },
  "kernelspec": {
   "display_name": "Python 3",
   "language": "python",
   "name": "python3"
  },
  "language_info": {
   "codemirror_mode": {
    "name": "ipython",
    "version": 3
   },
   "file_extension": ".py",
   "mimetype": "text/x-python",
   "name": "python",
   "nbconvert_exporter": "python",
   "pygments_lexer": "ipython3",
   "version": "3.8.3"
  }
 },
 "nbformat": 4,
 "nbformat_minor": 4
}
